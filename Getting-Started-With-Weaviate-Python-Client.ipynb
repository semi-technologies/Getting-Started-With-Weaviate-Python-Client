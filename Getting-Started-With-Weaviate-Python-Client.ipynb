{
 "cells": [
  {
   "cell_type": "markdown",
   "id": "rapid-harris",
   "metadata": {},
   "source": [
    "# Getting Started with Weaviate Python Library"
   ]
  },
  {
   "cell_type": "markdown",
   "id": "enhanced-cabin",
   "metadata": {},
   "source": [
    "* 1. What is Weaviate?\n",
    "* 2. Where can it be used?\n",
    "* 3. What are the advantages?\n",
    "* 4. What is Weaviate Python Client?\n",
    "* 5. How to use the Weaviate Python Client with a weaviate cluster?\n",
    "  * 5.0. Create a Weaviate instance/cluster.\n",
    "  * 5.1. Connect to the cluster.\n",
    "  * 5.2. Get Data and Analyze it.\n",
    "  * 5.3. Create appropriate data types.\n",
    "  * 5.4. Load data.\n",
    "  * 5.5. Query data."
   ]
  },
  {
   "cell_type": "markdown",
   "id": "executive-zimbabwe",
   "metadata": {},
   "source": [
    "## 1. What is Weaviate?"
   ]
  },
  {
   "cell_type": "markdown",
   "id": "satisfactory-multiple",
   "metadata": {},
   "source": [
    "Weaviate is an open-source, cloud-native, modular, real-time vector search engine. It is build to scale your machine learning models. Because Weaviate is modular, you can use it with any machine learning model that does data encoding. Weaviate comes with optional modules for text, image, and other other media types, that can be chose based on your task and data. Also, one could use more than one module, depending on the variety of data. More information [here](https://www.semi.technology/developers/weaviate/current/).\n",
    "\n",
    "In this articles we are going to use the _text_ module to see the most important functionalities and capabilities of Weaviate. The text module, also called _text2vec-contextionary_, captures the semantic meaning of the text objects and places it a concept hyper-space. This allows to do semantic search, in contrast to 'word matching search' that other search engines do.\n",
    "\n",
    "For more information about the Weaviate and SeMI Technology - the company that builds Weaviate, visit the official [website](https://www.semi.technology/)."
   ]
  },
  {
   "cell_type": "markdown",
   "id": "separate-parameter",
   "metadata": {},
   "source": [
    "## 2. Where can it be used?"
   ]
  },
  {
   "cell_type": "markdown",
   "id": "frank-concern",
   "metadata": {},
   "source": [
    "At the moment weaviate is used in such cases as: \n",
    "  - semantic search,\n",
    "  - similarity search,\n",
    "  - image search,\n",
    "  - power recommendation engines,\n",
    "  - e-commerce search,\n",
    "  - cybersecurity threat analysis,\n",
    "  - automated data harmonization,\n",
    "  - anomaly detection,\n",
    "  - data classification in ERP systems,\n",
    "  \n",
    ", and many many more cases."
   ]
  },
  {
   "cell_type": "markdown",
   "id": "competitive-coffee",
   "metadata": {},
   "source": [
    "## 3. What are the advantages?"
   ]
  },
  {
   "cell_type": "markdown",
   "id": "signed-passing",
   "metadata": {},
   "source": [
    "To understand what are the Weaviate advantages, you should ask yourself these questions:\n",
    "\n",
    " - Is the quality of results, that your current search engine gives you, good enough for you?\n",
    " - Is it is too much work to bring your machine learning models to scale?\n",
    " - Do you need to classify large datasets fast and near-real time?\n",
    " - Do you need to scale your machine learning models to production size?\n",
    " \n",
    "Weaviate is the solution to all these questions."
   ]
  },
  {
   "cell_type": "markdown",
   "id": "dressed-click",
   "metadata": {},
   "source": [
    "## 4. What is Weaviate Python Client?"
   ]
  },
  {
   "cell_type": "markdown",
   "id": "copyrighted-reach",
   "metadata": {},
   "source": [
    "The Weaviate Python Client is a python package that allows you to connect and interact with a Weaviate instance. The python client is NOT a Weaviate instance but you can use it to create one on the [Weaviate Cloud Service](https://console.semi.technology/). It provides API for importing data, creating schemas, do classification, query data, ... We are going to go through most of them and explain how and when one could use them.\n",
    "\n",
    "The package is published to PyPI ([link](https://pypi.org/project/weaviate-client/)). Also, a CLI tool is available on PyPI ([link](https://pypi.org/project/weaviate-cli/))."
   ]
  },
  {
   "cell_type": "markdown",
   "id": "attempted-punishment",
   "metadata": {},
   "source": [
    "## 5. How to use the python-client with a weaviate cluster?"
   ]
  },
  {
   "cell_type": "markdown",
   "id": "difficult-martin",
   "metadata": {},
   "source": [
    "In this section we are going to go through the process of creating a weaviate instance, connecting to it and explore some functionalities."
   ]
  },
  {
   "cell_type": "markdown",
   "id": "adjacent-purple",
   "metadata": {},
   "source": [
    "### 5.0. Create an weaviate instance/cluster."
   ]
  },
  {
   "cell_type": "markdown",
   "id": "brief-beaver",
   "metadata": {},
   "source": [
    "Creating a Weaviate instance can be done in multiple ways. It can be done using a `docker-compose.yaml` file that can be generated [here](https://www.semi.technology/developers/weaviate/current/getting-started/installation.html#customize-your-weaviate-setup). For this option you have to have `docker` and `docker-compose` installed, and space on your drive.\n",
    "\n",
    "Another option is to create an account on [Weaviate Cloud Service console](https://console.semi.technology/) (WCS console) and create a cluster there. There are different options for clusters you can choose from. If you do not have an account go ahead and create one.\n",
    "\n",
    "In this tutorial we are going to create a cluster on WCS directly from python (you will only need your WCS credentials)."
   ]
  },
  {
   "cell_type": "markdown",
   "id": "several-energy",
   "metadata": {},
   "source": [
    "The first thing we have to do now, is to install the Weaviate Python Client. It can be done using pip command. "
   ]
  },
  {
   "cell_type": "code",
   "execution_count": null,
   "id": "compliant-separate",
   "metadata": {},
   "outputs": [],
   "source": [
    "import sys\n",
    "!{sys.executable} -m pip install weaviate-client==2.3.1"
   ]
  },
  {
   "cell_type": "markdown",
   "id": "possible-continent",
   "metadata": {},
   "source": [
    "Now lets import the package and create a cluster on WCS."
   ]
  },
  {
   "cell_type": "code",
   "execution_count": null,
   "id": "toxic-cooler",
   "metadata": {},
   "outputs": [],
   "source": [
    "from getpass import getpass # hide password\n",
    "import weaviate # to communicate to the Weaviate instance\n",
    "from weaviate.tools import WCS"
   ]
  },
  {
   "cell_type": "markdown",
   "id": "polar-miniature",
   "metadata": {},
   "source": [
    "In order to authenticate to WCS or Weaviate instance (if Weaviate instance has Authentication enable) we need to create an Authentication object. At the moment it supports two types of authentication credentials: \n",
    "* Password credentials: `weaviate.auth.AuthClientPassword(username='WCS_ACCOUNT_EMAIL', password='WCS_ACCOUNT_PASSWORD')`\n",
    "* Token credentials `weaviate.auth.AuthClientCredentials(client_secret=YOUR_SECRET_TOKEN)`\n",
    "\n",
    "For WCS we will use the Password credentials.  "
   ]
  },
  {
   "cell_type": "code",
   "execution_count": null,
   "id": "seasonal-wallace",
   "metadata": {},
   "outputs": [],
   "source": [
    "my_credentials = weaviate.auth.AuthClientPassword(username=input(\"User name: \"), password=getpass('Password: '))"
   ]
  },
  {
   "cell_type": "markdown",
   "id": "backed-foundation",
   "metadata": {},
   "source": [
    "The `my_credentials` object contains your credentials so be careful not make it public."
   ]
  },
  {
   "cell_type": "code",
   "execution_count": null,
   "id": "elect-wellington",
   "metadata": {},
   "outputs": [],
   "source": [
    "my_wcs = WCS(my_credentials)"
   ]
  },
  {
   "cell_type": "markdown",
   "id": "logical-beatles",
   "metadata": {},
   "source": [
    "Now that we connected to WCS, we can `create`, `delete`, `get_clusters`, `get_cluster_config` and check the status of a cluster with `is_ready` method.\n",
    "\n",
    "Here is the prototype of the `create` method:\n",
    "```python\n",
    "my_wcs.create(cluster_name:str=None, \n",
    "    cluster_type:str='sandbox',\n",
    "    config:dict=None,\n",
    "    wait_for_completion:bool=True) -> str\n",
    "```\n",
    "The return value is the URL of the created cluster.\n",
    "\n",
    "*If you want to check the prototype and docstring of any methods in a notebook, run this command: `object.method?`. You can also use the `help()` function.*<br>\n",
    "Ex: `WCS.is_ready?` or `my_wcs.is_ready?` or `help(WCS.is_ready)`."
   ]
  },
  {
   "cell_type": "code",
   "execution_count": null,
   "id": "mathematical-clear",
   "metadata": {},
   "outputs": [],
   "source": [
    "cluster_name = 'my-first-weaviate-instance'\n",
    "weaviate_url = my_wcs.create(cluster_name=cluster_name)\n",
    "weaviate_url"
   ]
  },
  {
   "cell_type": "code",
   "execution_count": null,
   "id": "loving-conference",
   "metadata": {},
   "outputs": [],
   "source": [
    "my_wcs.is_ready(cluster_name)"
   ]
  },
  {
   "cell_type": "markdown",
   "id": "suspended-portfolio",
   "metadata": {},
   "source": [
    "### 5.1. Connect to the cluster."
   ]
  },
  {
   "cell_type": "markdown",
   "id": "copyrighted-document",
   "metadata": {},
   "source": [
    "Now we can connect to the created weaviate instance with the `Client` object. The constructor looks like this:\n",
    "```python\n",
    "weaviate.Client(\n",
    "    url:str,\n",
    "    auth_client_secret:weaviate.auth.AuthCredentials=None,\n",
    "    timeout_config:Union[Tuple[int, int], NoneType]=None,\n",
    ")\n",
    "```\n",
    "\n",
    "The constructor has only one required argument, `url`, and two optional ones: `auth_client_secret` - used if weaviate instance has authentication enabled and `timeout_config` - that sets REST time out configuration and is a tuple (retries, time out seconds). For more information about the arguments look at the docstring."
   ]
  },
  {
   "cell_type": "code",
   "execution_count": null,
   "id": "working-brief",
   "metadata": {},
   "outputs": [],
   "source": [
    "client = weaviate.Client(weaviate_url)"
   ]
  },
  {
   "cell_type": "markdown",
   "id": "chinese-lighter",
   "metadata": {},
   "source": [
    "Now that we connected to Weavite, it does not necessary mean that it is all set up. It might still do some setup processes in the background. We can check the health of the Weaviate instance by calling the `.is_live` method, and check if Weaviate is ready for requests by calling the `.is_ready`."
   ]
  },
  {
   "cell_type": "code",
   "execution_count": null,
   "id": "suffering-mineral",
   "metadata": {},
   "outputs": [],
   "source": [
    "client.is_ready()"
   ]
  },
  {
   "cell_type": "markdown",
   "id": "ongoing-factor",
   "metadata": {},
   "source": [
    "### 5.2. Get Data and Analyze it."
   ]
  },
  {
   "cell_type": "markdown",
   "id": "impressive-musical",
   "metadata": {},
   "source": [
    "We set up the Weaviate instance, connected to it and have it ready for requests, now we can take a step back and get some data and analyze it.\n",
    "\n",
    "This step, as for all the machine learning models, is the most important one. Here we have to decide what is relevant, what is important and what data structures/types to use.\n",
    "\n",
    "In this example we are going to use news articles to construct weaviate data. For this we are going to need the `newspaper3k` package."
   ]
  },
  {
   "cell_type": "code",
   "execution_count": null,
   "id": "requested-fancy",
   "metadata": {},
   "outputs": [],
   "source": [
    "!{sys.executable} -m pip install newspaper3k"
   ]
  },
  {
   "cell_type": "code",
   "execution_count": null,
   "id": "communist-correction",
   "metadata": {},
   "outputs": [],
   "source": [
    "import newspaper\n",
    "import uuid\n",
    "import json\n",
    "from tqdm import tqdm\n",
    "\n",
    "def get_articles_from_newspaper(\n",
    "        news_url: str, \n",
    "        max_articles: int=100\n",
    "    ) -> None:\n",
    "    \"\"\"\n",
    "    Download and save newspaper articles as weaviate schemas.\n",
    "    Parameters\n",
    "    ----------\n",
    "    newspaper_url : str\n",
    "        Newspaper title.\n",
    "    \"\"\"\n",
    "    \n",
    "    objects = []\n",
    "    \n",
    "    # Build the actual newspaper    \n",
    "    news_builder = newspaper.build(news_url, memoize_articles=False)\n",
    "    \n",
    "    if max_articles > news_builder.size():\n",
    "        max_articles = news_builder.size()\n",
    "    pbar = tqdm(total=max_articles)\n",
    "    pbar.set_description(f\"{news_url}\")\n",
    "    i = 0\n",
    "    while len(objects) < max_articles and i < news_builder.size():\n",
    "        article = news_builder.articles[i]\n",
    "        try:\n",
    "            article.download()\n",
    "            article.parse()\n",
    "            article.nlp()\n",
    "\n",
    "            if (article.title != '' and \\\n",
    "                article.title is not None and \\\n",
    "                article.summary != '' and \\\n",
    "                article.summary is not None and\\\n",
    "                article.authors):\n",
    "\n",
    "                # create an UUID for the article using its URL\n",
    "                article_id = uuid.uuid3(uuid.NAMESPACE_DNS, article.url)\n",
    "\n",
    "                # create the object\n",
    "                objects.append({\n",
    "                    'id': str(article_id),\n",
    "                    'title': article.title,\n",
    "                    'summary': article.summary,\n",
    "                    'authors': article.authors\n",
    "                })\n",
    "                \n",
    "                pbar.update(1)\n",
    "\n",
    "        except:\n",
    "            # something went wrong with getting the article, ignore it\n",
    "            pass\n",
    "        i += 1\n",
    "    pbar.close()\n",
    "    return objects"
   ]
  },
  {
   "cell_type": "code",
   "execution_count": null,
   "id": "apart-density",
   "metadata": {},
   "outputs": [],
   "source": [
    "data = []\n",
    "data += get_articles_from_newspaper('https://www.theguardian.com/international')\n",
    "data += get_articles_from_newspaper('http://cnn.com')"
   ]
  },
  {
   "cell_type": "markdown",
   "id": "front-consideration",
   "metadata": {},
   "source": [
    "### 5.3. Create appropriate data types."
   ]
  },
  {
   "cell_type": "markdown",
   "id": "involved-granny",
   "metadata": {},
   "source": [
    "In the function `get_articles_from_newspaper` we keep the _title, summary_ and _authors_ of the article. We also compute an UUID (Universally Unique IDentifier) for each article. All of these fields can be seen in the cell above.\n",
    "\n",
    "With this information at hand we already can define a schema, that is a data structure for each object type and how they are related. The schema is a nested dictionary.\n",
    "\n",
    "So lets create the `Article` class schema. We know that the article has a ___title, summary___ and ___authors___.\n",
    "\n",
    "More about schemas and how to create them can be found [here](https://www.semi.technology/developers/weaviate/current/data-schema/schema-configuration.html) and [here](https://www.semi.technology/developers/weaviate/current/restful-api-references/schema.html#parameters)."
   ]
  },
  {
   "cell_type": "code",
   "execution_count": null,
   "id": "armed-facility",
   "metadata": {},
   "outputs": [],
   "source": [
    "article_class_schema = {\n",
    "    # name of the class\n",
    "    \"class\": \"Article\",\n",
    "    # a description of what this class represents\n",
    "    \"description\": \"An Article class to store the article summary and its authors\",\n",
    "    # class properties\n",
    "    \"properties\": [\n",
    "        {\n",
    "            \"name\": \"title\",\n",
    "            \"dataType\": [\"string\"],\n",
    "            \"description\": \"The title of the article\", \n",
    "        },\n",
    "        {\n",
    "            \"name\": \"summary\",\n",
    "            \"dataType\": [\"text\"],\n",
    "            \"description\": \"The summary of the article\",\n",
    "        },\n",
    "        {\n",
    "            \"name\": \"hasAuthors\",\n",
    "            \"dataType\": [\"Author\"],\n",
    "            \"description\": \"The authors this article has\",\n",
    "        }\n",
    "    ]\n",
    "}"
   ]
  },
  {
   "cell_type": "markdown",
   "id": "liquid-habitat",
   "metadata": {},
   "source": [
    "In the class schema above we create a class named `Article`and with the description `An Article class to store the article summary and its authors`. The description is there to explain the user what this class is about.\n",
    "\n",
    "Also we define 3 properties: `title` - The title of the article, of type `string` (case sensitive), `summary` - The summary of the article, of data type `text` (case insensitive), `hasAuthor` - The authors of the article, of data type `Author`. The `Author` is NOT a primitive data type, it is another class that we should define. The list of primitive data types can be found [here](https://www.semi.technology/developers/weaviate/current/data-schema/datatypes.html).\n",
    "\n",
    "**NOTE 1:** The properties should always be in cameCase format and starts with a lowercased word.<br>\n",
    "**NOTE 2:** The property data type is always a list because it can accept more than one data type. \n",
    "\n",
    "Specifying another class as a data type is called cross-referencing. This way you can link your data objects in-between them and create a relation graph."
   ]
  },
  {
   "cell_type": "markdown",
   "id": "flying-corrections",
   "metadata": {},
   "source": [
    "Now lets create the `Author` class schema in the same manner, but with properties `name` and `wroteArticles`."
   ]
  },
  {
   "cell_type": "code",
   "execution_count": null,
   "id": "precious-scene",
   "metadata": {},
   "outputs": [],
   "source": [
    "author_class_schema = {\n",
    "    \"class\": \"Author\",\n",
    "    \"description\": \"An Author class to store the author information\",\n",
    "    \"properties\": [\n",
    "        {\n",
    "            \"name\": \"name\",\n",
    "            \"dataType\": [\"string\"],\n",
    "            \"description\": \"The name of the author\", \n",
    "        },\n",
    "        {\n",
    "            \"name\": \"wroteArticles\",\n",
    "            \"dataType\": [\"Article\"],\n",
    "            \"description\": \"The articles of the author\", \n",
    "        }\n",
    "    ]\n",
    "}"
   ]
  },
  {
   "cell_type": "markdown",
   "id": "apart-mount",
   "metadata": {},
   "source": [
    "Now that we decided on the data structure, we can tell Weaviate what kind of data we will import. This can be done by accessing the `schema` attribute of the client. \n",
    "\n",
    "Schema can be created in two different ways:\n",
    "1. using the `.create_class()` method, this option creates only one class per call.\n",
    "2. using the `.create()` method, this option creates multiple classes at once (useful if you have the whole schema)\n",
    "\n",
    "Also we can check if a schema is present or if a particular class schema is present with the `.contains()` method.\n",
    "\n",
    "More about schema methods, click [here](https://www.semi.technology/developers/weaviate/current/restful-api-references/schema.html)."
   ]
  },
  {
   "cell_type": "markdown",
   "id": "creative-wellington",
   "metadata": {},
   "source": [
    "Because we defined each class separately we should use the `.create_class()` method.\n",
    "\n",
    "```python\n",
    "client.schema.create_class(schema_class:Union[dict, str]) -> None\n",
    "```\n",
    "It accepts also file paths or URLs to a class definition file."
   ]
  },
  {
   "cell_type": "code",
   "execution_count": null,
   "id": "elder-disclosure",
   "metadata": {},
   "outputs": [],
   "source": [
    "client.schema.create_class(article_class_schema)"
   ]
  },
  {
   "cell_type": "markdown",
   "id": "metropolitan-gibraltar",
   "metadata": {},
   "source": [
    "As we can see, we cannot create the class property that reference a non-existing data type. This does not mean that the class `Article` was not created at all. Lets get the schema from weaviate and look what was created."
   ]
  },
  {
   "cell_type": "code",
   "execution_count": null,
   "id": "charitable-location",
   "metadata": {},
   "outputs": [],
   "source": [
    "# helper function\n",
    "def prettify(json_dict): \n",
    "    print(json.dumps(json_dict, indent=2))"
   ]
  },
  {
   "cell_type": "code",
   "execution_count": null,
   "id": "aging-headset",
   "metadata": {},
   "outputs": [],
   "source": [
    "prettify(client.schema.get())"
   ]
  },
  {
   "cell_type": "markdown",
   "id": "extended-writer",
   "metadata": {},
   "source": [
    "The configurations we did not specify are not mandatory and were set to the default values.\n",
    "\n",
    "As we can see, only the `hasAuthor` property was not created. So lets then create the `Author` class."
   ]
  },
  {
   "cell_type": "code",
   "execution_count": null,
   "id": "appreciated-multiple",
   "metadata": {},
   "outputs": [],
   "source": [
    "client.schema.create_class(author_class_schema)\n",
    "prettify(client.schema.get())"
   ]
  },
  {
   "cell_type": "markdown",
   "id": "cardiac-generic",
   "metadata": {},
   "source": [
    "Now we have both classes created but still we do not have the `hasAuthor` property. No worries, it can be created at any time, using the schema's attribute `property` and its method `create`.\n",
    "```python\n",
    "client.schema.property.create(schema_class_name:str, schema_property:dict) -> None\n",
    "```"
   ]
  },
  {
   "cell_type": "code",
   "execution_count": null,
   "id": "liquid-merchant",
   "metadata": {},
   "outputs": [],
   "source": [
    "client.schema.property.create('Article', article_class_schema['properties'][2])"
   ]
  },
  {
   "cell_type": "markdown",
   "id": "opposed-penalty",
   "metadata": {},
   "source": [
    "Now lets get the schema and see if it is what we expect it to be."
   ]
  },
  {
   "cell_type": "code",
   "execution_count": null,
   "id": "starting-russian",
   "metadata": {},
   "outputs": [],
   "source": [
    "prettify(client.schema.get())"
   ]
  },
  {
   "cell_type": "markdown",
   "id": "editorial-bhutan",
   "metadata": {},
   "source": [
    "Everything is exactly as we intended."
   ]
  },
  {
   "cell_type": "markdown",
   "id": "second-timeline",
   "metadata": {},
   "source": [
    "If you do not want to think about which class was created when and what properties might fail or not (due to yet non-existing classes), there is a solution for it. The solution is to create the whole schema with the `create` method. So lets delete the schema from weaviate and see how it works."
   ]
  },
  {
   "cell_type": "code",
   "execution_count": null,
   "id": "better-madness",
   "metadata": {},
   "outputs": [],
   "source": [
    "schema = client.schema.get() # save schema\n",
    "client.schema.delete_all() # delete all classes\n",
    "prettify(client.schema.get())"
   ]
  },
  {
   "cell_type": "markdown",
   "id": "chief-seven",
   "metadata": {},
   "source": [
    "*Note that if we delete the schema or a class we delete all the objects associated with it.*\n",
    "\n",
    "Now lets create it from the saved schema."
   ]
  },
  {
   "cell_type": "code",
   "execution_count": null,
   "id": "above-notice",
   "metadata": {},
   "outputs": [],
   "source": [
    "client.schema.create(schema)\n",
    "prettify(client.schema.get())"
   ]
  },
  {
   "cell_type": "markdown",
   "id": "controlled-airfare",
   "metadata": {},
   "source": [
    "This looks exactly as the schema we created class by class and property by property. This way we can save now the schema in a file and in the next session just directly import it by providing the file path.\n",
    "```python\n",
    "# save schema to file\n",
    "with open('schema.json', 'w') as outfile: \n",
    "    json.dump(schema, outfile)\n",
    "# remove current schema from Weaviate, removes all the data too\n",
    "client.schema.delete_all()\n",
    "# import schema using file path\n",
    "client.schema.create('schema.json')\n",
    "# print schema\n",
    "print(json.dumps(client.schema.get(), indent=2))\n",
    "```"
   ]
  },
  {
   "cell_type": "markdown",
   "id": "backed-clark",
   "metadata": {},
   "source": [
    "### 5.4. Load data."
   ]
  },
  {
   "cell_type": "markdown",
   "id": "competent-stockholm",
   "metadata": {},
   "source": [
    "Now that we have our data ready, and Weaviate is aware of what kind of data we have, we can add the `Articles` and `Authors` to the Weaviate instance.\n",
    "\n",
    "Importing data to weaviate can be done in 3 different ways.\n",
    "\n",
    "1. Adding object by object iteratively. This ca be done using the `data_object` object attribute of the client.\n",
    "2. In batches. This can be done by creating an appropriate batch request object and submitting it using the `batch` object attribute of the client.\n",
    "3. Using a `Batcher` object from the `weaviate.tools` module.\n",
    "\n",
    "We are going to see all of them in action, but first lets underline the differences between them.\n",
    "\n",
    "- Option 1. is the safest method to add data objects and creating references because it does object validation before creating it, whereas importing data in batches skips most of the validation in favor for speed. This option requires one REST request per object, thus is slower than importing data in batches. It is recommended to use this option if you are not sure if the your data is valid.\n",
    "\n",
    "\n",
    "- Option 2. as mentioned above skips most of data validation and requires only one REST request per BATCH. For this method you just add as much data as you want to a batch request (there are 2 types: `ReferenceBatchRequest` and `ObjectsBatchRequest`) then you submit it using the `batch` object attribute of the client. This option requires you to first import data objects, and then references (make sure that the objects used in the reference are already imported before creating a reference).\n",
    "\n",
    "\n",
    "- Option 3. relies on the batch requests from 2. but for a `Batcher` you do not have to submit any batch requests it does it automatically for you when it is full."
   ]
  },
  {
   "cell_type": "markdown",
   "id": "intensive-granny",
   "metadata": {},
   "source": [
    "### 5.4.1 Load data using `data_object` attribute"
   ]
  },
  {
   "cell_type": "markdown",
   "id": "excess-treasury",
   "metadata": {},
   "source": [
    "For this case lets take only one article (`data[0]`) and import it to Weaviate using the `data_object` attribute.\n",
    "\n",
    "The way to do it, is by creating first the objects and then the reference that links them.\n",
    "\n",
    "Run `client.data_object.create?` in a notebook to get more info about the method. Or `help(client.data_object.create)` in the IDLE."
   ]
  },
  {
   "cell_type": "markdown",
   "id": "governing-highlight",
   "metadata": {},
   "source": [
    "Each data object should have the same format as defined in schema."
   ]
  },
  {
   "cell_type": "code",
   "execution_count": null,
   "id": "animated-garage",
   "metadata": {},
   "outputs": [],
   "source": [
    "prettify(data[0])"
   ]
  },
  {
   "cell_type": "code",
   "execution_count": null,
   "id": "postal-camcorder",
   "metadata": {},
   "outputs": [],
   "source": [
    "article_object = {\n",
    "    'title': data[0]['title'],\n",
    "    'summary': data[0]['summary'].replace('\\n', '') # remove newline character\n",
    "    # we leave out the `hasAuthors` because it is a reference and will be created after we create the Authors\n",
    "}\n",
    "article_id = data[0]['id']\n",
    "\n",
    "# validated the object\n",
    "result = client.data_object.validate(\n",
    "    data_object=article_object,\n",
    "    class_name='Article',\n",
    "    uuid=article_id\n",
    ")\n",
    "\n",
    "prettify(result)"
   ]
  },
  {
   "cell_type": "markdown",
   "id": "loaded-parts",
   "metadata": {},
   "source": [
    "Object passed the validation test, now it is safe to create/import it."
   ]
  },
  {
   "cell_type": "code",
   "execution_count": null,
   "id": "civil-treasurer",
   "metadata": {},
   "outputs": [],
   "source": [
    "# create the object\n",
    "client.data_object.create(\n",
    "    data_object=article_object,\n",
    "    class_name='Article',\n",
    "    uuid=article_id # if not specified, weaviate is going to create an UUID for you.\n",
    ")"
   ]
  },
  {
   "cell_type": "markdown",
   "id": "stuck-syndrome",
   "metadata": {},
   "source": [
    "The `client.data_object.create` return the UUID of the object, if you specified one it is going to be returned too. If you do not specify one, Weaviate is going to generate one for you and return it.\n",
    "\n",
    "Congratulations we have added our first object to weaviate!!!\n",
    "\n",
    "Now we can actually \"get\" this object from Weaviate by its UUID using `get_by_id` or `get` method. (`get` without specifying and UUID return first 100 objects)"
   ]
  },
  {
   "cell_type": "code",
   "execution_count": null,
   "id": "constitutional-condition",
   "metadata": {},
   "outputs": [],
   "source": [
    "prettify(client.data_object.get(article_id, with_vector=False))"
   ]
  },
  {
   "cell_type": "markdown",
   "id": "ancient-nerve",
   "metadata": {},
   "source": [
    "Now lets create the authors and the cross references between the `Article` and the `Authors`.\n",
    "\n",
    "The reference addition is in the same manner, but to add references use the `client.data_object.reference.add` method."
   ]
  },
  {
   "cell_type": "code",
   "execution_count": null,
   "id": "toxic-nicaragua",
   "metadata": {},
   "outputs": [],
   "source": [
    "# keep track of the authors already imported/created and their respective UUID\n",
    "# because same author can write more than one paper.\n",
    "created_authors = {}\n",
    "\n",
    "for author in data[0]['authors']:\n",
    "    # create Author\n",
    "    author_object = {\n",
    "        'name': author,\n",
    "        # we leave out the `wroteArticles` because it is a reference and will be created after we create the Author\n",
    "    }\n",
    "    author_id = client.data_object.create(\n",
    "        data_object=author_object,\n",
    "        class_name='Author'\n",
    "    )\n",
    "    \n",
    "    # add author to the created_authors\n",
    "    created_authors[author] = author_id\n",
    "    \n",
    "    # add references\n",
    "    ## Author -> Article\n",
    "    client.data_object.reference.add(\n",
    "        from_uuid=author_id,\n",
    "        from_property_name='wroteArticles',\n",
    "        to_uuid=article_id\n",
    "    )\n",
    "    ## Article -> Author \n",
    "    client.data_object.reference.add(\n",
    "        from_uuid=article_id,\n",
    "        from_property_name='hasAuthors',\n",
    "        to_uuid=author_id\n",
    "    )\n",
    "    "
   ]
  },
  {
   "cell_type": "markdown",
   "id": "legislative-major",
   "metadata": {},
   "source": [
    "In the cell above we iterate through all authors of the article. For each iteration we first create the `Author` then we add the references: the reference from `Author` to `Article` - linked via the `wroteArticles` property of the `Author`, and reference from `Article` to `Author` - through the `hasAuthors` property of the `Article`.\n",
    "\n",
    "Note that it is not required to have bi-directional references.\n",
    "\n",
    "Now lets get the object and take a look at it."
   ]
  },
  {
   "cell_type": "code",
   "execution_count": null,
   "id": "fleet-tucson",
   "metadata": {},
   "outputs": [],
   "source": [
    "prettify(client.data_object.get(article_id, with_vector=False))"
   ]
  },
  {
   "cell_type": "markdown",
   "id": "several-professor",
   "metadata": {},
   "source": [
    "As we can see we have the reference set as a `beacon` and a `href`. We cannot see the `Author`s data by getting the objects from weaviate. We can do it by _querying_ data (see section **5.5 Query data.**) or by getting the the object by the UUID (or `beacon`, or `href`)."
   ]
  },
  {
   "cell_type": "code",
   "execution_count": null,
   "id": "surprised-alliance",
   "metadata": {},
   "outputs": [],
   "source": [
    "from weaviate.util import get_valid_uuid # extract UUID from URL (beacon or href)\n",
    "\n",
    "# extract authors references, lets take only the first one as an example (the article might have only one)\n",
    "author = client.data_object.get(article_id, with_vector=False)['properties']['hasAuthors'][0]\n",
    "\n",
    "# get and print data object by providing the 'beacon'\n",
    "author_uuid = get_valid_uuid(author['beacon']) # can be 'href' too\n",
    "prettify(client.data_object.get(author_uuid, with_vector=False))"
   ]
  },
  {
   "cell_type": "markdown",
   "id": "protected-vacuum",
   "metadata": {},
   "source": [
    "So Far, so Good (... So What!)\n",
    "\n",
    "There are more methods for Data Objects (`client.data_object`): `.delete`, `.exists`, `.replace` and `.update`.\n",
    "\n",
    "Also there are some methods for references too (`client.data_object.reference`): `.add`, `.delete` and `.update`."
   ]
  },
  {
   "cell_type": "markdown",
   "id": "numerical-direction",
   "metadata": {},
   "source": [
    "### 5.4.2 Load data using batches"
   ]
  },
  {
   "cell_type": "markdown",
   "id": "protecting-passion",
   "metadata": {},
   "source": [
    "Importing data in batches is very similar to adding object by object.\n",
    "\n",
    "The first thing we have to do is to create a `BatchRequest` object for each object type: `DataObject` and `Reference`. They are named accordingly: `ObjectsBatchRequest` and `ReferenceBatchRequest`.\n",
    "\n",
    "Lets create a object of each batch and import the next 99 articles to Weaviate.\n",
    "\n",
    "**NOTE:** I want to bring to your attention again that importing/creating data in batches skips some validation steps and might lead to a corrupted graph."
   ]
  },
  {
   "cell_type": "code",
   "execution_count": null,
   "id": "nominated-southwest",
   "metadata": {},
   "outputs": [],
   "source": [
    "from weaviate import ObjectsBatchRequest, ReferenceBatchRequest"
   ]
  },
  {
   "cell_type": "markdown",
   "id": "frequent-vatican",
   "metadata": {},
   "source": [
    "Lets create a function that adds a single article to the batch request."
   ]
  },
  {
   "cell_type": "code",
   "execution_count": null,
   "id": "sound-austin",
   "metadata": {},
   "outputs": [],
   "source": [
    "def add_article(batch: ObjectsBatchRequest, article_data: dict) -> str:\n",
    "    \n",
    "    article_object = {\n",
    "        'title': article_data['title'],\n",
    "        'summary': article_data['summary'].replace('\\n', '') # remove newline character\n",
    "    }\n",
    "    article_id = article_data['id']\n",
    "    \n",
    "    # add article to the object batch request\n",
    "    batch.add(\n",
    "        data_object=article_object,\n",
    "        class_name='Article',\n",
    "        uuid=article_id\n",
    "    )\n",
    "    \n",
    "    return article_id"
   ]
  },
  {
   "cell_type": "markdown",
   "id": "seven-circus",
   "metadata": {},
   "source": [
    "Lets now create a function add a single author to the batch request, if the author was not already created."
   ]
  },
  {
   "cell_type": "code",
   "execution_count": null,
   "id": "marked-brass",
   "metadata": {},
   "outputs": [],
   "source": [
    "def add_author(batch: ObjectsBatchRequest, author_name: str, created_authors: dict) -> str:\n",
    "    \n",
    "    if author_name in created_authors:\n",
    "        # return author UUID\n",
    "        return created_authors[author_name]\n",
    "    \n",
    "    # generate an UUID for the Author\n",
    "    author_id = generate_uuid(author)\n",
    "    \n",
    "    # add author to the object batch request\n",
    "    batch.add(\n",
    "        data_object={'name': author_name},\n",
    "        class_name='Author',\n",
    "        uuid=author_id\n",
    "    )\n",
    "    \n",
    "    created_authors[author_name] = author_id\n",
    "    return author_id"
   ]
  },
  {
   "cell_type": "markdown",
   "id": "played-effects",
   "metadata": {},
   "source": [
    "And the last function for adding cross references."
   ]
  },
  {
   "cell_type": "code",
   "execution_count": null,
   "id": "continued-glance",
   "metadata": {},
   "outputs": [],
   "source": [
    "def add_references(batch: ReferenceBatchRequest, article_id: str, author_id: str)-> None:\n",
    "    # add references to the reference batch request\n",
    "    ## Author -> Article\n",
    "    batch.add(\n",
    "        from_object_uuid=author_id,\n",
    "        from_object_class_name='Author',\n",
    "        from_property_name='wroteArticles',\n",
    "        to_object_uuid=article_id\n",
    "    )\n",
    "    \n",
    "    ## Article -> Author \n",
    "    batch.add(\n",
    "        from_object_uuid=article_id,\n",
    "        from_object_class_name='Article',\n",
    "        from_property_name='hasAuthors',\n",
    "        to_object_uuid=author_id\n",
    "    )"
   ]
  },
  {
   "cell_type": "markdown",
   "id": "recognized-cyprus",
   "metadata": {},
   "source": [
    "Now we can iterate through the data and import data using batches."
   ]
  },
  {
   "cell_type": "code",
   "execution_count": null,
   "id": "revised-trustee",
   "metadata": {},
   "outputs": [],
   "source": [
    "from weaviate.tools import generate_uuid\n",
    "from tqdm.notebook import trange\n",
    "\n",
    "objects_batch = ObjectsBatchRequest()\n",
    "reference_batch = ReferenceBatchRequest()\n",
    "\n",
    "for i in trange(1, 100):\n",
    "    \n",
    "    # add article to batch request\n",
    "    article_id = add_article(objects_batch, data[i])\n",
    "    \n",
    "    for author in data[i]['authors']:\n",
    "        \n",
    "        # add author to batch request\n",
    "        author_id = add_author(objects_batch, author, created_authors)\n",
    "        \n",
    "        # add cross references to the reference batch\n",
    "        add_references(reference_batch, article_id=article_id, author_id=author_id)\n",
    "    \n",
    "    if i % 20 == 0:\n",
    "        # submit the object batch request to weaviate, can be done with method '.create_objects'\n",
    "        client.batch.create(objects_batch)\n",
    "        \n",
    "        # submit the reference batch request to weaviate, can be done with method '.create_references'\n",
    "        client.batch.create(reference_batch)\n",
    "        \n",
    "        # batch requests are not reusable, so we create new ones\n",
    "        objects_batch = ObjectsBatchRequest()\n",
    "        reference_batch = ReferenceBatchRequest()\n",
    "\n",
    "\n",
    "# submit the any object that are left\n",
    "status_objects = client.batch.create(objects_batch)\n",
    "status_references = client.batch.create(reference_batch)"
   ]
  },
  {
   "cell_type": "markdown",
   "id": "lyric-belief",
   "metadata": {},
   "source": [
    "In order to import data in batches we should create a `BatchRequest` object for the data object type we want to import. A batch request object does not have a size limit so you should submit it when there are as many objects as you want. (Keep in mind that if you will use a batch with too many objects it might result in an TimeOut error so keep it to a reasonable size so your Weaviate instance can process it.) Also we keep track of the authors we already created so we do not create the same author over and over again.\n",
    "\n",
    "The call of the `client.batch.create` returns the status of each object that was created. Check it if you want to be sure that everything worked just fine. Also **NOTE** that even if Weaviate failed to create objects it does not mean that the batch submission failed too, for more information read the documentation of the `client.batch.create`."
   ]
  },
  {
   "cell_type": "markdown",
   "id": "advisory-newman",
   "metadata": {},
   "source": [
    "### 5.4.3 Load data using a Batcher object."
   ]
  },
  {
   "cell_type": "markdown",
   "id": "raising-adams",
   "metadata": {},
   "source": [
    "The `Batcher` is a class that automatically submits objects to weaviate, both `DataObject`s and `Reference`s. The `Batcher` can be found in the `weaviate.tools` module, and has the following constructor prototype:\n",
    "```python\n",
    "Batcher(\n",
    "    client : weaviate.client.Client,\n",
    "    batch_size : int=512,\n",
    "    verbose : bool=False,\n",
    "    auto_commit_timeout : float=-1.0,\n",
    "    max_backoff_time : int=300,\n",
    "    max_request_retries : int=4,\n",
    "    return_values_callback : Callable=None,\n",
    ")\n",
    "```\n",
    "\n",
    "See the documentation for an explanation of each argument.\n",
    "\n",
    "Lets see how it works in action for the rest of the objects from `data` we extracted."
   ]
  },
  {
   "cell_type": "code",
   "execution_count": null,
   "id": "formal-laugh",
   "metadata": {},
   "outputs": [],
   "source": [
    "from weaviate.tools import Batcher"
   ]
  },
  {
   "cell_type": "markdown",
   "id": "looking-fireplace",
   "metadata": {},
   "source": [
    "For a `Batcher` we only need to add the objects we want to import to Weaviate. The `Batcher` has a special method to add `objects` (`batcher.add_data_object`) and a special method to add `references` (`batcher.add_reference`). Also it provides a `batcher.add` method that has keywords arguments, which detects what kind of data you are trying to add. The `batcher.add` method makes it possible to reuse the `add_article`, `add_author` and `add_references` functions we defined above.\n",
    "\n",
    "**NOTE:** The `Batcher.add` was introduced in `weaviate-client` version 2.3.0. "
   ]
  },
  {
   "cell_type": "markdown",
   "id": "earlier-family",
   "metadata": {},
   "source": [
    "Lets use the batcher to add the remaining articles and authors from `data`. Because the `Batcher` automatically submits objects to weaviate, we need to ALWAYS `.close()` it after we are done to make sure we are submitting what remains in the `Batcher`.\n",
    "\n",
    "If you are like me, and sometimes forget to close objects, `Bather` can be used in a context manager, i.e. used with `with`. Lets see how it works with the context manager."
   ]
  },
  {
   "cell_type": "code",
   "execution_count": null,
   "id": "fossil-accident",
   "metadata": {},
   "outputs": [],
   "source": [
    "# we still need the 'created_authors' so we do not add the \n",
    "with Batcher(client, 30, True) as batcher:\n",
    "    for i in trange(100, 200):\n",
    "        \n",
    "        # add article to batcher\n",
    "        article_id = add_article(batcher, data[i]) # NOTE the 'bather' object instead of 'objects_batch'\n",
    "\n",
    "        for author in data[i]['authors']:\n",
    "\n",
    "            # add author to batcher\n",
    "            author_id = add_author(batcher, author, created_authors) # NOTE the 'bather' object instead of 'objects_batch'\n",
    "\n",
    "            # add cross references to the batcher\n",
    "            add_references(batcher, article_id=article_id, author_id=author_id) # NOTE the 'bather' object instead of 'reference_batch'"
   ]
  },
  {
   "cell_type": "markdown",
   "id": "specified-article",
   "metadata": {},
   "source": [
    "That is it for a Batcher.\n",
    "\n",
    "These are the 3 ways to import data to Weaviate. Choose the one that is appropriate for you and your project."
   ]
  },
  {
   "cell_type": "markdown",
   "id": "elder-roommate",
   "metadata": {},
   "source": [
    "### 5.5. Query data."
   ]
  },
  {
   "cell_type": "markdown",
   "id": "federal-fitting",
   "metadata": {},
   "source": [
    "Now we have the data imported and ready to be queried. Data can be queried by using the `query` attribute of the client object (`client.query`).\n",
    "\n",
    "The data is queried using GraphQL syntax, and can be done in three different ways:\n",
    "- **GET**: query that gets objects and from Weaviate. More information [here](https://www.semi.technology/developers/weaviate/current/graphql-references/get.html)<br>\n",
    "    Use `client.query.get(class_name, properties).OTHER_OPTIONAL_FILTERS.do()`\n",
    "\n",
    "- **AGGREGATE**: query that aggregates data. More information [here](https://www.semi.technology/developers/weaviate/current/graphql-references/aggregate.html) <br>\n",
    "    Use `client.query.aggregate(class_name, properties).OTHER_OPTIONAL_FILTERS.do()`\n",
    "    \n",
    "- Or use a GraphQL query represented as a `str`. <br>\n",
    "    Use `client.query.raw()`\n",
    "    \n",
    "**NOTE:** Both `.get` and `.aggregate` require the call of the `.do()` method to run the query. `.raw()` does NOT."
   ]
  },
  {
   "cell_type": "markdown",
   "id": "three-snake",
   "metadata": {},
   "source": [
    "Lets now get the Articles objects and their corresponding title only."
   ]
  },
  {
   "cell_type": "markdown",
   "id": "growing-liquid",
   "metadata": {},
   "source": [
    "### 5.5.1 GET"
   ]
  },
  {
   "cell_type": "code",
   "execution_count": null,
   "id": "obvious-gardening",
   "metadata": {},
   "outputs": [],
   "source": [
    "result = client.query.get(class_name='Article', properties=\"title\")\\\n",
    "    .do()\n",
    "print(f\"Number of articles returned: {len(result['data']['Get']['Article'])}\")\n",
    "result"
   ]
  },
  {
   "cell_type": "markdown",
   "id": "cathedral-heart",
   "metadata": {},
   "source": [
    "So as we can see the `result` contains only 100 articles, this is due to the default limit of 100. Lets change it."
   ]
  },
  {
   "cell_type": "code",
   "execution_count": null,
   "id": "changed-rabbit",
   "metadata": {},
   "outputs": [],
   "source": [
    "result = client.query.get(class_name='Article', properties=\"title\")\\\n",
    "    .with_limit(200)\\\n",
    "    .do()\n",
    "print(f\"Number of articles returned: {len(result['data']['Get']['Article'])}\")"
   ]
  },
  {
   "cell_type": "markdown",
   "id": "equipped-gauge",
   "metadata": {},
   "source": [
    "We can do much more by stacking multiple methods. The available methods for `.get` are:\n",
    "- `.with_limit` - set another limit of returned objects.\n",
    "- `.with_near_object` - get objects that are similar to the object passed to this method.\n",
    "- `.with_near_text` - get objects that are similar to the text passed to this method.\n",
    "- `.with_near_vector` - get objects that are similar to the vector passed to this method.\n",
    "- `.with_where` - get objects that are filtered using the `Where` filter, see this [link](https://www.semi.technology/developers/weaviate/current/graphql-references/filters.html#where-filter) for examples and explanation.\n",
    "\n",
    "Also instead of `.do()` one can use the `.build()` method that returns the GraphQL query as a string. This string can be passed to `.raw()` method.\n",
    "\n",
    "**NOTE:** Only one `.with_near_*` can be used per query."
   ]
  },
  {
   "cell_type": "code",
   "execution_count": null,
   "id": "ambient-example",
   "metadata": {},
   "outputs": [],
   "source": [
    "client.query.get(class_name='Article', properties=\"title\")\\\n",
    "    .with_limit(5)\\\n",
    "    .with_near_text({'concepts': ['Fashion']})\\\n",
    "    .do()"
   ]
  },
  {
   "cell_type": "markdown",
   "id": "mental-mississippi",
   "metadata": {},
   "source": [
    "With `Get` we can see the cross references of each object. We are going to use the `.raw()` method for this since it is not possible with any existing `.with_*` method."
   ]
  },
  {
   "cell_type": "code",
   "execution_count": null,
   "id": "regional-right",
   "metadata": {},
   "outputs": [],
   "source": [
    "query = \"\"\"\n",
    "{\n",
    "  Get {\n",
    "    Article(limit: 2) {\n",
    "      title\n",
    "\n",
    "      hasAuthors {         # the reference\n",
    "        ... on Author {    # you always set the destination class\n",
    "          name             # the property related to target class\n",
    "        }\n",
    "      }\n",
    "    }\n",
    "  }\n",
    "}\n",
    "\"\"\"\n",
    "\n",
    "prettify(client.query.raw(query)['data']['Get']['Article'])"
   ]
  },
  {
   "cell_type": "markdown",
   "id": "northern-oxide",
   "metadata": {},
   "source": [
    "### 5.5.2 AGGREGATE"
   ]
  },
  {
   "cell_type": "markdown",
   "id": "later-azerbaijan",
   "metadata": {},
   "source": [
    "We can use the `.aggregate` to count number of objects that satisfy a specific condition."
   ]
  },
  {
   "cell_type": "code",
   "execution_count": null,
   "id": "therapeutic-shame",
   "metadata": {},
   "outputs": [],
   "source": [
    "# no filter, count all objects of class Article\n",
    "client.query.aggregate(class_name='Article')\\\n",
    "    .with_meta_count()\\\n",
    "    .do()"
   ]
  },
  {
   "cell_type": "code",
   "execution_count": null,
   "id": "heated-tractor",
   "metadata": {},
   "outputs": [],
   "source": [
    "# no filter, count all objects of class Author\n",
    "client.query.aggregate(class_name='Author')\\\n",
    "    .with_meta_count()\\\n",
    "    .do()"
   ]
  },
  {
   "cell_type": "markdown",
   "id": "equal-valentine",
   "metadata": {},
   "source": [
    "\n",
    "Here are the methods that are supported by the `.aggregate`.\n",
    "\n",
    "- `.with_meta_count` sets meta count to True. Used to count objects per filtered group.\n",
    "- `.with_fields` - fields to return by the aggregated query.\n",
    "- `.with_group_by_filter` - set a `GroupBy` filter. See this [link](https://www.semi.technology/developers/weaviate/current/graphql-references/aggregate.html#groupby-filter) for more information about the filter.\n",
    "- `.with_where` - aggregate objects using a `Where` filter. See this [link](https://www.semi.technology/developers/weaviate/current/graphql-references/filters.html#where-filter) for examples and explanation.\n"
   ]
  },
  {
   "cell_type": "markdown",
   "id": "prescription-scanner",
   "metadata": {},
   "source": [
    "Of course when it comes to querying data, the possibilities are endless. Have fun experimenting with these capabilities.\n",
    "\n",
    "Feel free to check out and contribute to weaviate-client on [GitHub](https://github.com/semi-technologies/weaviate-python-client)."
   ]
  },
  {
   "cell_type": "code",
   "execution_count": null,
   "id": "floating-sheffield",
   "metadata": {},
   "outputs": [],
   "source": [
    "a = \n",
    "    12"
   ]
  }
 ],
 "metadata": {
  "kernelspec": {
   "display_name": "Python 3",
   "language": "python",
   "name": "python3"
  },
  "language_info": {
   "codemirror_mode": {
    "name": "ipython",
    "version": 3
   },
   "file_extension": ".py",
   "mimetype": "text/x-python",
   "name": "python",
   "nbconvert_exporter": "python",
   "pygments_lexer": "ipython3",
   "version": "3.6.12"
  }
 },
 "nbformat": 4,
 "nbformat_minor": 5
}
